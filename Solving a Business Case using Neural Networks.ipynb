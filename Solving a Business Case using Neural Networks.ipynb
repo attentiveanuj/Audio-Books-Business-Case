{
 "cells": [
  {
   "cell_type": "code",
   "execution_count": 1,
   "id": "5dedd324",
   "metadata": {},
   "outputs": [],
   "source": [
    "import tensorflow as tf \n",
    "import numpy as np \n"
   ]
  },
  {
   "cell_type": "code",
   "execution_count": 2,
   "id": "74617906",
   "metadata": {},
   "outputs": [],
   "source": [
    "npz = np.load('Audiobooks_Train_Data.npz') \n",
    "\n",
    "train_inputs = npz['inputs'].astype(float) \n",
    "train_targets = npz['targets'].astype(int) \n",
    "\n",
    "npz = np.load('Audiobooks_Validation_Data.npz')\n",
    "validation_inputs , validation_targets = npz['inputs'].astype(float) , npz['targets'].astype(int) \n",
    "\n",
    "npz = np.load('Audiobooks_Test_Data.npz')\n",
    "test_inputs , test_targets = npz['inputs'].astype(float),npz['targets'].astype(int) "
   ]
  },
  {
   "cell_type": "code",
   "execution_count": 3,
   "id": "cdcfff9c",
   "metadata": {},
   "outputs": [
    {
     "name": "stdout",
     "output_type": "stream",
     "text": [
      "Epoch 1/100\n",
      "36/36 - 1s - 41ms/step - accuracy: 0.7443 - loss: 0.4634 - val_accuracy: 0.7450 - val_loss: 0.3902\n",
      "Epoch 2/100\n",
      "36/36 - 0s - 4ms/step - accuracy: 0.8002 - loss: 0.3816 - val_accuracy: 0.8009 - val_loss: 0.3555\n",
      "Epoch 3/100\n",
      "36/36 - 0s - 4ms/step - accuracy: 0.8083 - loss: 0.3633 - val_accuracy: 0.7606 - val_loss: 0.3742\n",
      "Epoch 4/100\n",
      "36/36 - 0s - 4ms/step - accuracy: 0.8069 - loss: 0.3551 - val_accuracy: 0.8121 - val_loss: 0.3512\n",
      "Epoch 5/100\n",
      "36/36 - 0s - 4ms/step - accuracy: 0.8111 - loss: 0.3481 - val_accuracy: 0.7852 - val_loss: 0.3346\n",
      "Epoch 6/100\n",
      "36/36 - 0s - 8ms/step - accuracy: 0.8125 - loss: 0.3418 - val_accuracy: 0.7875 - val_loss: 0.3463\n",
      "Epoch 7/100\n",
      "36/36 - 0s - 9ms/step - accuracy: 0.8229 - loss: 0.3329 - val_accuracy: 0.8210 - val_loss: 0.3261\n",
      "Epoch 8/100\n",
      "36/36 - 0s - 9ms/step - accuracy: 0.8187 - loss: 0.3346 - val_accuracy: 0.7875 - val_loss: 0.3307\n",
      "Epoch 9/100\n",
      "36/36 - 0s - 10ms/step - accuracy: 0.8240 - loss: 0.3276 - val_accuracy: 0.7919 - val_loss: 0.3233\n",
      "Epoch 10/100\n",
      "36/36 - 0s - 10ms/step - accuracy: 0.8240 - loss: 0.3272 - val_accuracy: 0.7852 - val_loss: 0.3472\n",
      "Epoch 11/100\n",
      "36/36 - 0s - 10ms/step - accuracy: 0.8201 - loss: 0.3339 - val_accuracy: 0.8277 - val_loss: 0.3340\n"
     ]
    },
    {
     "data": {
      "text/plain": [
       "<keras.src.callbacks.history.History at 0x1e4c9e76290>"
      ]
     },
     "execution_count": 3,
     "metadata": {},
     "output_type": "execute_result"
    }
   ],
   "source": [
    "input_size = 10 \n",
    "hidden_layer_size = 200 \n",
    "output_size = 2 \n",
    "\n",
    "model = tf.keras.Sequential([ \n",
    "                            tf.keras.layers.Dense(hidden_layer_size,activation='relu') ,\n",
    "                            tf.keras.layers.Dense(hidden_layer_size,activation='tanh'),\n",
    "                            tf.keras.layers.Dense(output_size,activation='softmax') \n",
    "                            ])\n",
    "\n",
    "model.compile(optimizer = 'adam' ,  loss = 'sparse_categorical_crossentropy' , metrics = ['accuracy']) \n",
    "\n",
    "early_stopping = tf.keras.callbacks.EarlyStopping(patience = 2 ) \n",
    "\n",
    "max_epochs = 100\n",
    "\n",
    "batch_size = 100\n",
    "\n",
    "model.fit( \n",
    "            train_inputs,\n",
    "            train_targets, \n",
    "            validation_data = (validation_inputs,validation_targets),\n",
    "            epochs = max_epochs, \n",
    "            batch_size= batch_size , \n",
    "            callbacks=[early_stopping],\n",
    "            verbose = 2 \n",
    "           )"
   ]
  },
  {
   "cell_type": "code",
   "execution_count": 4,
   "id": "b43e99a3",
   "metadata": {},
   "outputs": [
    {
     "name": "stdout",
     "output_type": "stream",
     "text": [
      "\u001b[1m14/14\u001b[0m \u001b[32m━━━━━━━━━━━━━━━━━━━━\u001b[0m\u001b[37m\u001b[0m \u001b[1m0s\u001b[0m 4ms/step - accuracy: 0.8090 - loss: 0.3561 \n"
     ]
    }
   ],
   "source": [
    "test_loss , test_accuracy = model.evaluate(test_inputs , test_targets)"
   ]
  },
  {
   "cell_type": "code",
   "execution_count": 5,
   "id": "0c9f4145",
   "metadata": {},
   "outputs": [
    {
     "name": "stdout",
     "output_type": "stream",
     "text": [
      "test loss =  0.3600478768348694 \n",
      "test_accuracy =  0.8169642686843872\n"
     ]
    }
   ],
   "source": [
    "print( \"test loss = \" , test_loss , \"\\ntest_accuracy = \",test_accuracy)"
   ]
  },
  {
   "cell_type": "code",
   "execution_count": null,
   "id": "fe2fc450",
   "metadata": {},
   "outputs": [],
   "source": []
  }
 ],
 "metadata": {
  "kernelspec": {
   "display_name": "tf",
   "language": "python",
   "name": "tf"
  },
  "language_info": {
   "codemirror_mode": {
    "name": "ipython",
    "version": 3
   },
   "file_extension": ".py",
   "mimetype": "text/x-python",
   "name": "python",
   "nbconvert_exporter": "python",
   "pygments_lexer": "ipython3",
   "version": "3.10.13"
  }
 },
 "nbformat": 4,
 "nbformat_minor": 5
}
