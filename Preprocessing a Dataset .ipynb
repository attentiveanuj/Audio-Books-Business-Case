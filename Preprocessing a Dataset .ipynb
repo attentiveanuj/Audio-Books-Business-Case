{
 "cells": [
  {
   "cell_type": "code",
   "execution_count": 3,
   "id": "f24168b5",
   "metadata": {},
   "outputs": [],
   "source": [
    "import numpy as np \n",
    "from sklearn import preprocessing "
   ]
  },
  {
   "cell_type": "code",
   "execution_count": 6,
   "id": "dbcfc250",
   "metadata": {},
   "outputs": [],
   "source": [
    "raw_dataset = np.loadtxt('Audiobooks_data.csv',delimiter=',')\n",
    "\n",
    "\n",
    "shuffled_indices = np.arange(raw_dataset.shape[0]) \n",
    "np.random.shuffle(shuffled_indices)\n",
    "\n",
    "raw_shuffled_dataset = raw_dataset[shuffled_indices] \n"
   ]
  },
  {
   "cell_type": "code",
   "execution_count": 7,
   "id": "686c5eb1",
   "metadata": {},
   "outputs": [],
   "source": [
    "inputs_prior = raw_dataset[:,1:-1]\n",
    "targets_prior = raw_dataset[:,-1] "
   ]
  },
  {
   "cell_type": "code",
   "execution_count": 8,
   "id": "66740970",
   "metadata": {},
   "outputs": [],
   "source": [
    "num_of_type_1_targets = int( sum (targets_prior))\n",
    "num_of_type_0_targets_counter = 0 \n",
    "indices_to_be_deleted = [] # to create balance \n",
    "for i in range(targets_prior.shape[0]) : \n",
    "    if targets_prior[i] == 0 : \n",
    "        num_of_type_0_targets_counter += 1 \n",
    "        if num_of_type_0_targets_counter > num_of_type_1_targets : \n",
    "            indices_to_be_deleted.append(i) \n",
    "            \n",
    "inputs = np.delete(inputs_prior , indices_to_be_deleted , axis=0 ) \n",
    "targets = np.delete(targets_prior , indices_to_be_deleted , axis = 0 ) \n",
    "\n",
    "inputs_scaled = preprocessing.scale(inputs)\n"
   ]
  },
  {
   "cell_type": "code",
   "execution_count": 9,
   "id": "f07eb26c",
   "metadata": {},
   "outputs": [],
   "source": [
    "shuffled_indices = np.arange(inputs_scaled.shape[0]) \n",
    "np.random.shuffle(shuffled_indices)\n",
    "\n",
    "inputs = inputs_scaled[shuffled_indices] \n",
    "targets = targets[shuffled_indices] "
   ]
  },
  {
   "cell_type": "code",
   "execution_count": 11,
   "id": "51e64091",
   "metadata": {},
   "outputs": [
    {
     "name": "stdout",
     "output_type": "stream",
     "text": [
      "1768.0 3579 0.49399273540095\n",
      "238.0 447 0.5324384787472036\n",
      "231.0 448 0.515625\n"
     ]
    }
   ],
   "source": [
    "num_train_samples = int ( 0.8* targets.shape[0] ) \n",
    "num_validation_samples = int( 0.1*targets.shape[0]) \n",
    "num_test_samples = targets.shape[0] - num_validation_samples - num_train_samples\n",
    "\n",
    "train_data_input = inputs[ :num_train_samples ] \n",
    "train_data_target = targets[ :num_train_samples] \n",
    "\n",
    "validation_data_input = inputs[ num_train_samples : num_train_samples+num_validation_samples ]\n",
    "validation_data_target = targets[ num_train_samples : num_train_samples+num_validation_samples ] \n",
    "\n",
    "test_data_input = inputs[ num_train_samples+num_validation_samples : ]\n",
    "test_data_target = targets[ num_train_samples+num_validation_samples : ]\n",
    "\n",
    "print( np.sum(train_data_target) , train_data_target.shape[0] , np.sum(train_data_target)/train_data_target.shape[0] ) \n",
    "print( np.sum(validation_data_target) , validation_data_target.shape[0] , np.sum(validation_data_target)/validation_data_target.shape[0] ) \n",
    "print( np.sum(test_data_target) , test_data_target.shape[0] , np.sum(test_data_target)/test_data_target.shape[0] ) \n"
   ]
  },
  {
   "cell_type": "code",
   "execution_count": 12,
   "id": "e2513c8f",
   "metadata": {},
   "outputs": [],
   "source": [
    "np.savez('Audiobooks_Train_Data' , inputs = train_data_input , targets = train_data_target)\n",
    "np.savez('Audiobooks_Validation_Data' , inputs = validation_data_input , targets = validation_data_target)\n",
    "np.savez('Audiobooks_Test_Data' , inputs = test_data_input , targets = test_data_target)\n"
   ]
  },
  {
   "cell_type": "code",
   "execution_count": null,
   "id": "810d2df8",
   "metadata": {},
   "outputs": [],
   "source": []
  }
 ],
 "metadata": {
  "kernelspec": {
   "display_name": "Python 3 (ipykernel)",
   "language": "python",
   "name": "python3"
  },
  "language_info": {
   "codemirror_mode": {
    "name": "ipython",
    "version": 3
   },
   "file_extension": ".py",
   "mimetype": "text/x-python",
   "name": "python",
   "nbconvert_exporter": "python",
   "pygments_lexer": "ipython3",
   "version": "3.11.5"
  }
 },
 "nbformat": 4,
 "nbformat_minor": 5
}
